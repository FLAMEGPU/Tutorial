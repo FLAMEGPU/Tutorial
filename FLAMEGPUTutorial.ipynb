{
 "cells": [
  {
   "cell_type": "markdown",
   "metadata": {},
   "source": [
    "<img src=\"../tree/Fig/Logo.jpg\" alt=\"FLAMEGPU\" width=\"600px\"/> \n",
    "\n",
    "# Welcome to FLAMEGPU Tutorial\n",
    "\n",
    "For the purpose of this tutorial, the Jupyter notebook has been configured to work with FLAMEGPU. The Jupyter notebook is a web based environment for interactive computing.  It is capable of running code in a wide variety of programming languages. Once the instance is up and running, you can simply click on the links, and start the tutorial in the web based environment. The notebook consists of cells which can be of type code or markdown (by default, new cells are created as *code* cells). If the content is code, it will be sent to the kernel for execution and output will be displayed in the footer of the cell. If the content is markdown, it will be rendered as HTML and serves as explanatory text. You can execute the content by clicking the **_Run_** button. \n",
    "\n",
    "\n",
    "Note: You can launch the temrinal from the following link:\n",
    "\n",
    "[FLAME GPU Tutorial Terminal for your instance](../terminals/FLAMETerminal)\n",
    "\n",
    "or run commands using the exclamation mark. e.g. see below"
   ]
  },
  {
   "cell_type": "code",
   "execution_count": null,
   "metadata": {},
   "outputs": [],
   "source": [
    "!echo \"Hello World\""
   ]
  },
  {
   "cell_type": "markdown",
   "metadata": {},
   "source": [
    "# Getting started with FLAMEGPU\n",
    "\n",
    "A copy of starting code exists in your `Home` directory. Note: this is not the full FLAMEGPU version (current version 1.5.0) as all examples other than the predator prey model are omitted. The full version of FLAMEGPU can be downloaded from the [website](www.flamegpu.com).\n",
    "\n",
    "A typical top-level directory layout is as below:\n",
    "\n",
    "\n",
    "* __FLAMEGPU:__ contains the templates and XML schemas that are used to generate CUDA GPU code. These should not be modified by the users.\n",
    "* __bin/x64__ and __bin/linux-x64:__ The location of the console and visualisation binaries for each of the examples. There is a Linux shell script for the example which will start the simulation with an initial states file (and the number of iterations to simulation in console mode)\n",
    "* __doc:__ The FLAMEGPU technical report and user guide in addition to reports for specific example models.\n",
    "* __examples:__ The location of the model files for FLAMEGPU examples and the location to create your own models.\n",
    "* __include:__ Some common include files required by FLAMEGPU\n",
    "* __lib:__ Any library dependencies required by FLAMEGPU\n",
    "* __media:__ 3D models used for some of the visualisations\n",
    "* __tools:__ A number of tools for generating function script files from XML model files and running template code generation in windows.\n",
    "\n",
    "\n",
    "Note: The FLAME GPU documentation and user guide can be found at [docs.flamegpu.com](http://docs.flamegpu.com), with source hosted on GitHub at `FLAMEGPU/docs`.\n",
    "\n",
    "\n",
    "We are going to work with the predator-prey model (Section 1,[Tutorial doc](https://drive.google.com/file/d/0B2HbOiEppVPMVFFJcnh5Yzk2eUE/view?usp=sharing)) in the examples folder. Navigate to the `examples/PreyPredator` directory and call `make console` to perform all the the FLAMEGPU code generation and code compilation stages."
   ]
  },
  {
   "cell_type": "code",
   "execution_count": null,
   "metadata": {},
   "outputs": [],
   "source": [
    "%cd ~/Tutorial/examples/PreyPredator\n",
    "!make console"
   ]
  },
  {
   "cell_type": "markdown",
   "metadata": {},
   "source": [
    "This will validate and process the XML model and build a console version of the model in release mode. FLAMEGPU can be executed as either a console application or as an interactive visualisation. Binary files are placed in `bin/linux-x64/<OPT>_<MODE>`, where `<OPT>` is either `Release` or `Debug` and `<MODE>` is `Console` or `Visualisation`. For more info on building the example via `make`, run `make help` in the `examples` directory. \n",
    "\n",
    "To run the executable, simply run the script located in `bin/linux-x64`:"
   ]
  },
  {
   "cell_type": "code",
   "execution_count": null,
   "metadata": {},
   "outputs": [],
   "source": [
    "%cd  ~/Tutorial/bin/linux-x64/\n",
    "!./PreyPredator_console.sh"
   ]
  },
  {
   "cell_type": "markdown",
   "metadata": {},
   "source": [
    "An example output would look like below:\n",
    "\n",
    "```\n",
    "./PreyPredator_console.sh \n",
    "FLAMEGPU Console mode\n",
    "Initial states: ../../examples/PreyPredator/iterations/0.xml\n",
    "Output dir: ../../examples/PreyPredator/iterations/\n",
    "GPU 0: GeForce GTX 1080, SM61, Linux, pciBusId 1\n",
    "64Bit System Detected\n",
    "Allocating Host and Device memory\n",
    "Processing Simulation Step 1\n",
    "Iteration 1 Saved to XML\n",
    "Total Processing time: 11.739296 (ms)\n",
    "```\n",
    "\n",
    "Examine the run script by looking at the parameters passed to the simulation. The parameters are the initial model file and the number of simulation runs (iterations). Note that by default, the number of iterations is set to 1. \n",
    "\n",
    "In order to modify the number of iterations, simply modify the script or change the iteration number by calling the executable directly from the command line. Let's navigate to where the binary file is located and run the binary file as follows:"
   ]
  },
  {
   "cell_type": "code",
   "execution_count": null,
   "metadata": {},
   "outputs": [],
   "source": [
    "%cd  ~/Tutorial/bin/linux-x64/Release_Console\n",
    "!./PreyPredator ../../../examples/PreyPredator/iterations/0.xml 10"
   ]
  },
  {
   "cell_type": "markdown",
   "metadata": {},
   "source": [
    "The output will be a *csv* file `iterations\\PreyPred_Count.csv` which will have logged the population counts for the initial state and for the simulation step. Note: XML output is enabled by default. This will create an XML file (saved in the location of the initial input file) for each iteration which will contain the state of the agents after applying a single simulation iteration to the agents (in the same format as `0.xml`). You can view this file from the tutorial directory ([0.xml](http://localhost:8888/edit/examples/PreyPredator/iterations/0.xml)) to see how the agent positions and other properties have changed. \n",
    "\n",
    "\n",
    "When executing the binary file, you can modify the input arguments as follows:\n",
    "\n",
    "__Console mode:__\n",
    "`./<executable> [-h] [--help] input_path [cuda_device_id] [XML_output_override]`\n",
    "\n",
    "__Interactive visualisation:__\n",
    "`./<executable> [-h] [--help] input_path [cuda_device_id]`\n",
    "\n",
    ", where required arguments are:\n",
    "\n",
    "* `input_path` : Path to initial states XML file OR path to output XML directory\n",
    "* `num_iterations` : Number of simulation iterations\n",
    "\n",
    "and optional arguments are:\n",
    "\n",
    "* `-h, --help` : Output this help message.\n",
    "* `cuda_device_id` : CUDA device ID to be used. Default is 0.\n",
    "* `XML_output_frequency` : Frequency of XML output\n",
    "    *  `0 = No output`\n",
    "    *  `1 = Every 1 iteration`\n",
    "    *  `5 = Every 5 iterations`\n",
    "    *  `Default value: 1`\n",
    "\n",
    "\n",
    "For example, if you do not wish to print the XML output, you can disable it by setting the `XML_output_frequency` argument to 0 when running the executable:"
   ]
  },
  {
   "cell_type": "code",
   "execution_count": null,
   "metadata": {},
   "outputs": [],
   "source": [
    "!./PreyPredator ../../../examples/PreyPredator/iterations/0.xml 10 0 0"
   ]
  },
  {
   "cell_type": "markdown",
   "metadata": {},
   "source": [
    "# Exercise 01: Building FLAME GPU in notebook\n",
    "\n",
    "In exercise one, we are going to build and execute the simulation program for the basic Predator-Prey model, followed by plotting the output results. Navigate to the `examples/PreyPredator` directory and run `make`."
   ]
  },
  {
   "cell_type": "code",
   "execution_count": null,
   "metadata": {},
   "outputs": [],
   "source": [
    "%cd ~/Tutorial/examples/PreyPredator\n",
    "!make console"
   ]
  },
  {
   "cell_type": "markdown",
   "metadata": {},
   "source": [
    "## Running the model\n",
    "\n",
    "Now, run the simulation for 150 iterations:"
   ]
  },
  {
   "cell_type": "code",
   "execution_count": null,
   "metadata": {},
   "outputs": [],
   "source": [
    "%cd ~/Tutorial/bin/linux-x64/Release_Console\n",
    "! ./PreyPredator ../../../examples/PreyPredator/iterations/0.xml 150"
   ]
  },
  {
   "cell_type": "markdown",
   "metadata": {},
   "source": [
    "## Generate and view the graph\n",
    "\n",
    "The generated *csv* file contains the number of prey and predator agents per iteration. Navigate to the `iterations` folder and plot the result:"
   ]
  },
  {
   "cell_type": "code",
   "execution_count": null,
   "metadata": {},
   "outputs": [],
   "source": [
    "%cd ~/Tutorial/examples/PreyPredator/iterations\n",
    "!gnuplot make_plot_PreyPred.gp\n",
    "from IPython.display import Image\n",
    "Image(\"PreyPredator.png\")"
   ]
  },
  {
   "cell_type": "markdown",
   "metadata": {},
   "source": [
    "   # Exercise 02: Changing Predator-Prey model's behaviour\n",
    "\n",
    "Now, let's change the parameters in the initial data and see how it affects the behaviour. To generate a new randomised set of initial data `0.xml`, navigate to `XMLGenerator` folder. \n",
    "\n",
    "1. Compile and re-run the executable with different parameters:\n"
   ]
  },
  {
   "cell_type": "markdown",
   "metadata": {},
   "source": [
    "An example output would look like below:\n",
    "\n",
    "```\n",
    "./PreyPredator_console.sh \n",
    "FLAMEGPU Console mode\n",
    "Initial states: ../../examples/PreyPredator/iterations/0.xml\n",
    "Output dir: ../../examples/PreyPredator/iterations/\n",
    "GPU 0: GeForce GTX 1080, SM61, Linux, pciBusId 1\n",
    "64Bit System Detected\n",
    "Allocating Host and Device memory\n",
    "Processing Simulation Step 1\n",
    "Iteration 1 Saved to XML\n",
    "Total Processing time: 11.739296 (ms)\n",
    "```\n",
    "\n",
    "Examine the run script by looking at the parameters passed to the simulation. The parameters are the initial model file and the number of simulation runs (iterations). Note that by default, the number of iterations is set to 1. In order to modify the number of iterations, simply modify the script or change the iteration number by calling the executable directly from the command line. Let's navigate to where the binary file is located and run the binary file as follows:\n",
    "\n",
    "__Console mode:__\n",
    "`./<executable> [-h] [--help] input_path [cuda_device_id] [XML_output_override]`\n",
    "\n",
    "__Interactive visualisation:__\n",
    "`./<executable> [-h] [--help] input_path [cuda_device_id]`\n",
    "\n",
    ", where required arguments are:\n",
    "\n",
    "* `input_path` : Path to initial states XML file OR path to output XML directory\n",
    "* `num_iterations` : Number of simulation iterations\n",
    "\n",
    "and optional arguments are:\n",
    "\n",
    "* `-h, --help` : Output this help message.\n",
    "* `cuda_device_id` : CUDA device ID to be used. Default is 0.\n",
    "* `XML_output_frequency` : Frequency of XML output\n",
    "    *  `0 = No output`\n",
    "    *  `1 = Every 1 iteration`\n",
    "    *  `5 = Every 5 iterations`\n",
    "    *  `Default value: 1`\n",
    "\n",
    "For this particular example, we call the executable by passing the `0.xml` starting stats file as the program augment with single simulation iteration. "
   ]
  },
  {
   "cell_type": "code",
   "execution_count": null,
   "metadata": {},
   "outputs": [],
   "source": [
    "%cd ~/Tutorial/examples/PreyPredator/XMLGenerator/\n",
    "!g++ -std=gnu++11 xmlGen.cpp -o xmlGen\n",
    "!./xmlGen ../iterations/0.xml 800 400 0.05 0.03 50"
   ]
  },
  {
   "cell_type": "markdown",
   "metadata": {},
   "source": [
    "\n",
    ", where 800 is the number of predators, 400 is the number of preys, 0.05 and 0.03 are the reproduction rates for both prey and predator, and 50 is the predator's energy gain. \n",
    "\n",
    "2. Re-run the executable again for 300 iterations and plot the results. You can observe the predator prey behaviour where both species become extinct after certain number of iterations."
   ]
  },
  {
   "cell_type": "code",
   "execution_count": null,
   "metadata": {},
   "outputs": [],
   "source": [
    "%cd ~/Tutorial/bin/linux-x64/Release_Console\n",
    "! ./PreyPredator ../../../examples/PreyPredator/iterations/0.xml 300"
   ]
  },
  {
   "cell_type": "markdown",
   "metadata": {},
   "source": [
    "Navigate to the `iterations` folder and plot the result: "
   ]
  },
  {
   "cell_type": "code",
   "execution_count": null,
   "metadata": {},
   "outputs": [],
   "source": [
    "%cd ~/Tutorial/examples/PreyPredator/iterations\n",
    "!gnuplot make_plot_PreyPred.gp\n",
    "from IPython.display import Image\n",
    "Image(\"PreyPredator.png\")"
   ]
  },
  {
   "cell_type": "markdown",
   "metadata": {},
   "source": [
    "3. Change other parameters or the iteration number to see how the behaviour changes over time. Try to modify the simulation parameters to produce oscillating population dynamics."
   ]
  },
  {
   "cell_type": "markdown",
   "metadata": {},
   "source": [
    "   # Exercise 03: Extending the Predator-Prey model (Optional)\n",
    "In this exercise, we are going to extend our model to include grass. When grass or preys' source of food is included in the model (based on NetLogo's implementation):\n",
    "\n",
    "\n",
    "* A prey’s energy is reduced by 1 unit each time it moves.\n",
    "* A prey’s energy increases each time it eats grass.\n",
    "* A prey dies if it has run out of energy.\n",
    "* Once eaten, grass regrows after a fixed number of iterations.\n",
    "\n",
    "\n",
    "With respect to the implementation this will require , a fourth and fifth message type as grass should only be eaten by prey within a certain certain radius. The mechanism for \"grazing\" is as follows:\n",
    "\n",
    "\n",
    "1.  Grass agents which currently have grass read the positions of the prey from the location message.\n",
    "2.  Grass agents read the positions of the prey from the location message. Then, each pick out the messages within the minimum distance and then post the ID of a prey within that distance to the `grass_eaten_message` message. Note that if there is more than 1 prey on within the minimum distance, the grass agent will be eaten by the closest prey.\n",
    "3.  Grass agents then modify the `active` agent variable to indicate they no longer have grass at this time. The colour also changes from \"green\" to \"navy\".\n",
    "4.  Prey agents read the `grass_eaten_message` message which contain their ID. They then increase their energy accordingly.\n",
    "5. Prey agents die if they do not have enough life/energy\n",
    "\n",
    "\n",
    "\n",
    "Below figure shows a dependency graph for the Predator-Prey model with grass: \n",
    "\n",
    "<img src=\"../tree/Fig/prey_pred_grass.jpg\" alt=\"Flow diagram for Predator-Prey model with grass\" width=\"600px\"/> \n",
    "\n",
    "\n",
    "For simplicity a Grass agent description has already be added to the XML model file with function descriptions matching the behaviour described above. In this exercise, you need to modify the `functions.c` file to add the following behaviour to the functions stubs described below (See [Last Section](#Editing-Files) on how to edit source files):\n",
    "\n",
    "* 3.1 *__grass_output_location__*: each grass agent outputs a `grass_location` message to provide information. In a more advanced model prey agent can use this information to migrate to areas of high food concentration.\n",
    "* 3.2 *__grass_eaten__*: each grass agent should iterate over `prey_location_messages` and checks the distance between its location and the prey agent. If the grass is available and the distances less than `GRASS_EAT_DISTANCE`, then the grass is eaten by the closet prey and the regrowth cycle starts. Note that if there are multiple preys within the `GRASS_EAT_DISTANCE`, then the closet prey to the grass, eats it and outputs a message `grass_eaten` containing the ID of the prey who ate it.\n",
    "\n",
    "Once the grass is eaten, its colour changes (`type` variable is set to a different colour) and it no longer will be available until the `death_cycles` reaches `GRASS_REGROW_CYCLES`). \n",
    "* 3.3 *__prey_eat_or_starve__*: each grass agent iterates over `grass_eaten_messages` and checks the ID against it ID. If the grass eaten message indicates that this prey ate some grass then increase the preys life by adding energy. Moreover, if its life is less than 1, it dies.\n",
    "* 3.4 *__grass_growth__*: If the the `death_cycles` variable is equal to `GRASS_REGROW_CYCLES`, then the grass agent becomes available and the `death_cycles` restarts and the colour will be set to green again. If the grass is not available (meaning the `death_cycles` variable is not equal to `GRASS_REGROW_CYCLES`), then we only increase the `death_cycles` variable.\n",
    "\n",
    "In the case where grass is included, prey agents require an energy (`life`) variable similar to predators. This variable is randomly selected from the interval of [0,50]. The grass agent initial colour is set to \"green\". Once eaten, the `available` variable is set to 0 and it takes up to `GRASS_REGROW_CYCLES` iterations till the grass re-grow. \n",
    "\n",
    "Now, generate a new initial data file using below parameters:"
   ]
  },
  {
   "cell_type": "code",
   "execution_count": null,
   "metadata": {},
   "outputs": [],
   "source": [
    "%cd  ~/Tutorial/examples/PreyPredator/XMLGenerator/\n",
    "!g++ -std=gnu++11 xmlGen_IncGrass.cpp -o xmlGenEx3\n",
    "!./xmlGenEx3 ../iterations/0.xml 800 400 2000 0.05 0.03 75 50 100"
   ]
  },
  {
   "cell_type": "markdown",
   "metadata": {},
   "source": [
    ", where 800 is the number of preys, 400 is the number of predators, 2000 is the number of grass, 0.05 and 0.03 are the reproduction rates for both prey and predator, 75 is the prey's energy gain, and 50 is the predator's energy gain. \n",
    "\n",
    "\n",
    "Re-build the model via `make console`:"
   ]
  },
  {
   "cell_type": "code",
   "execution_count": null,
   "metadata": {},
   "outputs": [],
   "source": [
    "%cd ~/Tutorial/examples/PreyPredator\n",
    "!make console"
   ]
  },
  {
   "cell_type": "markdown",
   "metadata": {},
   "source": [
    "Now, run the simulation for 600 iterations:"
   ]
  },
  {
   "cell_type": "code",
   "execution_count": null,
   "metadata": {},
   "outputs": [],
   "source": [
    "%cd ~/Tutorial/bin/linux-x64/Release_Console\n",
    "!./PreyPredator ../../../examples/PreyPredator/iterations/0.xml 600 0 0"
   ]
  },
  {
   "cell_type": "markdown",
   "metadata": {},
   "source": [
    "Now, plot your results by running below cell. Your plot should be similar to below figure:\n",
    "\n",
    "<img src=\"../tree/Fig/prey_predator_grass.jpg\" alt=\"Examples of predator-prey model simulation with grass included\" width=\"600px\"/> "
   ]
  },
  {
   "cell_type": "code",
   "execution_count": null,
   "metadata": {},
   "outputs": [],
   "source": [
    "%cd ~/Tutorial/examples/PreyPredator/iterations\n",
    "!gnuplot make_plot_PreyPred_IncGrass.gp\n",
    "from IPython.display import Image\n",
    "Image(\"PreyPredator.png\")"
   ]
  },
  {
   "cell_type": "markdown",
   "metadata": {},
   "source": [
    "## Experimenting with the Model\n",
    "Try changing the parameters to see how this will change the behaviour of the agents causing the behaviours to change. If you have completed all the above exercises then try modifying the model file and functions file to allow prey agents to migrate to areas of high concentrations of food. You can implement this by adding an additional velocity term to the preys steering velocity and by allowing the prey agents to query the `grass_location` messages.\n",
    "\n",
    "For more information on FLAMEGPU see the [FLAMEGPU website](www.flamegpu.com) and the documentation which gives detailed instructions on all aspects of FLAMEGPU modelling. More examples can be found on [FLAMEGPU GitHub repository](https://github.com/FLAMEGPU/FLAMEGPU.git).\n",
    "\n",
    "You can download the solutions from GitHub by checking out the `Exercise_3_solution` branch. E.g. "
   ]
  },
  {
   "cell_type": "code",
   "execution_count": null,
   "metadata": {},
   "outputs": [],
   "source": [
    "!git clone https://github.com/FLAMEGPU/tutorial -b Exercise_3_solution"
   ]
  },
  {
   "cell_type": "markdown",
   "metadata": {},
   "source": [
    "# Editing Files\n",
    "\n",
    "You can use Jupyter to edit model files. Use this link to explore the [turorial directory](../tree) or use below links to open the model file, functions file or initial model data directory for editing:\n",
    "\n",
    "* [Model.xml](../edit/examples/PreyPredator/src/model/XMLModelFile.xml)\n",
    "* [Functions.c](../edit/examples/PreyPredator/src/model/functions.c)\n",
    "* [0.xml](../edit/examples/PreyPredator/iterations/0.xml)\n"
   ]
  }
 ],
 "metadata": {
  "kernelspec": {
   "display_name": "Python 3",
   "language": "python",
   "name": "python3"
  },
  "language_info": {
   "codemirror_mode": {
    "name": "ipython",
    "version": 3
   },
   "file_extension": ".py",
   "mimetype": "text/x-python",
   "name": "python",
   "nbconvert_exporter": "python",
   "pygments_lexer": "ipython3",
   "version": "3.6.5"
  }
 },
 "nbformat": 4,
 "nbformat_minor": 2
}
