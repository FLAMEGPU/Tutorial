{
 "cells": [
  {
   "cell_type": "markdown",
   "metadata": {},
   "source": [
    "# Welcome\n",
    "\n",
    "Instructions for building example a bit of info about Jupyter notebook.\n",
    "\n",
    "You can launch the temrinal from the following link:\n",
    "\n",
    "[FLAME GPU Tutorial Terminal for your instance](../terminals/FLAMETerminal)\n",
    "\n",
    "or run commands using the exclamation mark. e.g. see below"
   ]
  },
  {
   "cell_type": "code",
   "execution_count": null,
   "metadata": {},
   "outputs": [],
   "source": [
    "!echo \"Hello World\""
   ]
  },
  {
   "cell_type": "markdown",
   "metadata": {},
   "source": [
    "# Exercise 01: Building FLAME GPU in notebook\n",
    "\n",
    "In exercise one, we are going to build and execute the simulation program for the basic Predator-Prey model, followed by plotting the output results. Navigate to the **_examples/PreyPredator_** directory and run **_make_**."
   ]
  },
  {
   "cell_type": "code",
   "execution_count": null,
   "metadata": {},
   "outputs": [],
   "source": [
    "%cd ~/Tutorial/examples/PreyPredator\n",
    "!make console"
   ]
  },
  {
   "cell_type": "markdown",
   "metadata": {},
   "source": [
    "# Running the model\n",
    "\n",
    "Now, run the simulation for 150 iterations:"
   ]
  },
  {
   "cell_type": "code",
   "execution_count": null,
   "metadata": {},
   "outputs": [],
   "source": [
    "%cd ~/Tutorial/bin/linux-x64/Release_Console\n",
    "! ./PreyPredator ../../../examples/PreyPredator/iterations/0.xml 150"
   ]
  },
  {
   "cell_type": "markdown",
   "metadata": {},
   "source": [
    "# Generate and view the graph\n",
    "\n",
    "The generated csv file contains the number of prey and predator agents per iteration. Navigate to the \\verb|iterations| folder and plot the result:"
   ]
  },
  {
   "cell_type": "code",
   "execution_count": null,
   "metadata": {},
   "outputs": [],
   "source": [
    "%cd ~/Tutorial/examples/PreyPredator/iterations\n",
    "!gnuplot make_plot_PreyPred.gp\n",
    "from IPython.display import Image\n",
    "Image(\"PreyPredator.png\")"
   ]
  },
  {
   "cell_type": "markdown",
   "metadata": {},
   "source": [
    "# Exercise 02:\n",
    "\n",
    "Now, let's change the parameters in the initial data and see how it affects the behaviour. To generate a new randomised set of initial data (0.xml), navigate to **_XMLGenerator_** folder. \n",
    "\n",
    "1. Compile and re-run the executable with different parameters:\n"
   ]
  },
  {
   "cell_type": "code",
   "execution_count": null,
   "metadata": {},
   "outputs": [],
   "source": [
    "%cd /examples/PreyPredator/XMLGenerator/\n",
    "!g++ -std=gnu++11 xmlGen.cpp -o xmlGen\n",
    "!./xmlGen ../iterations/0.xml 800 400 0.05 0.03 50"
   ]
  },
  {
   "cell_type": "markdown",
   "metadata": {},
   "source": [
    "\n",
    ", where 800 is the number of predators, 400 is the number of preys, 0.05 and 0.03 are the reproduction rates for both prey and predator, and 50 is the predator's energy gain. \n",
    "\n",
    "2. Re-run the executable again for 300 iterations and plot the results. Your plot should be similar to Figure~\\ref{fig:simulation_noGrass_exr2}. You can observe the predator prey behaviour where both species become extinct after certain number of iterations."
   ]
  },
  {
   "cell_type": "code",
   "execution_count": null,
   "metadata": {},
   "outputs": [],
   "source": [
    "%cd ~/Tutorial/bin/linux-x64/Release_Console\n",
    "! ./PreyPredator ../../../examples/PreyPredator/iterations/0.xml 300"
   ]
  },
  {
   "cell_type": "markdown",
   "metadata": {},
   "source": [
    "3. Change the other parameters or the iteration number to see how the behaviour changes. Try to modify the simulation parameters to produce oscillating population dynamics.\n"
   ]
  },
  {
   "cell_type": "markdown",
   "metadata": {},
   "source": [
    "# Editing Files\n",
    "\n",
    "In order to edit model files, you can simply use Jupyter:\n",
    "\n",
    "[Link to tutorial director](../tree)\n",
    "\n",
    "Use the link above to explore the turorial directory. Or use the links below to open the model file, functions file or initial model data directory for editing.\n",
    "\n",
    "* [Model.xml](../edit/examples/PreyPredator/src/model/XMLModelFile.xml)\n",
    "* [Functions.c](../edit/examples/PreyPredator/src/model/functions.c)\n",
    "* [0.xml](../edit/examples/PreyPredator/iterations/0.xml)\n"
   ]
  },
  {
   "cell_type": "code",
   "execution_count": null,
   "metadata": {},
   "outputs": [],
   "source": []
  }
 ],
 "metadata": {
  "kernelspec": {
   "display_name": "Python 3",
   "language": "python",
   "name": "python3"
  },
  "language_info": {
   "codemirror_mode": {
    "name": "ipython",
    "version": 3
   },
   "file_extension": ".py",
   "mimetype": "text/x-python",
   "name": "python",
   "nbconvert_exporter": "python",
   "pygments_lexer": "ipython3",
   "version": "3.4.7"
  }
 },
 "nbformat": 4,
 "nbformat_minor": 2
}
