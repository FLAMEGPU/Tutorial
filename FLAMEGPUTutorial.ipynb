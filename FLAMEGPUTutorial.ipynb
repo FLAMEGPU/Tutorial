{
 "cells": [
  {
   "cell_type": "markdown",
   "metadata": {},
   "source": [
    "# Welcome\n",
    "\n",
    "Instructions for building example a bit of info about Jupyter notebook.\n",
    "\n",
    "You can launch the temrinal from the following link\n",
    "\n",
    "[FLAME GPU Tutorial Terminal for your instance](../terminals/FLAMETerminal)\n",
    "\n",
    "or run commands using thr exclamation mark. e.g. see below"
   ]
  },
  {
   "cell_type": "code",
   "execution_count": null,
   "metadata": {},
   "outputs": [],
   "source": [
    "!echo \"Hello World\""
   ]
  },
  {
   "cell_type": "markdown",
   "metadata": {},
   "source": [
    "# Building FLAME GPU in notebook\n",
    "\n",
    "Some info on whats happening"
   ]
  },
  {
   "cell_type": "code",
   "execution_count": null,
   "metadata": {},
   "outputs": [],
   "source": [
    "%cd ~/Tutorial/examples/PreyPredator\n",
    "!make console"
   ]
  },
  {
   "cell_type": "markdown",
   "metadata": {},
   "source": [
    "# Running the model\n",
    "\n",
    "Some text about what happens when you run the model"
   ]
  },
  {
   "cell_type": "code",
   "execution_count": null,
   "metadata": {},
   "outputs": [],
   "source": [
    "%cd ~/Tutorial/bin/linux-x64/Release_Console\n",
    "! ./PreyPredator ../../../examples/PreyPredator/iterations/0.xml 100"
   ]
  },
  {
   "cell_type": "markdown",
   "metadata": {},
   "source": [
    "# Generate and view the graph\n",
    "\n",
    "Some text about the outputs and graph"
   ]
  },
  {
   "cell_type": "code",
   "execution_count": null,
   "metadata": {},
   "outputs": [],
   "source": [
    "%cd ~/Tutorial/examples/PreyPredator/iterations\n",
    "!gnuplot make_plot_PreyPred.gp\n",
    "from IPython.display import Image\n",
    "Image(\"PreyPredator.png\")"
   ]
  },
  {
   "cell_type": "markdown",
   "metadata": {},
   "source": [
    "# Editing Files\n",
    "\n",
    "You can even use Jupyter to edit model files.\n",
    "\n",
    "[Link to tutorial director](../tree)\n",
    "\n",
    "Use the link above to explore the turorial directory. Or use the links below to open the model file, functions file or initial model data directory for editing.\n",
    "\n",
    "* [Model.xml](../edit/examples/PreyPredator/src/model/XMLModelFile.xml)\n",
    "* [Functions.c](../edit/examples/PreyPredator/src/model/functions.c)\n",
    "* [0.xml](../edit/examples/PreyPredator/iterations/0.xml)\n"
   ]
  },
  {
   "cell_type": "code",
   "execution_count": null,
   "metadata": {},
   "outputs": [],
   "source": []
  }
 ],
 "metadata": {
  "kernelspec": {
   "display_name": "Python 3",
   "language": "python",
   "name": "python3"
  },
  "language_info": {
   "codemirror_mode": {
    "name": "ipython",
    "version": 3
   },
   "file_extension": ".py",
   "mimetype": "text/x-python",
   "name": "python",
   "nbconvert_exporter": "python",
   "pygments_lexer": "ipython3",
   "version": "3.4.7"
  }
 },
 "nbformat": 4,
 "nbformat_minor": 2
}
